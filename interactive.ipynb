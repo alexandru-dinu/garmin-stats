{
 "cells": [
  {
   "cell_type": "code",
   "execution_count": null,
   "id": "06aefa53-d606-4f65-9b67-e0d618b09261",
   "metadata": {},
   "outputs": [],
   "source": [
    "%load_ext autoreload\n",
    "%autoreload 2"
   ]
  },
  {
   "cell_type": "code",
   "execution_count": null,
   "id": "27416436-d7e0-4f97-88c3-386fe067a90b",
   "metadata": {},
   "outputs": [],
   "source": [
    "import matplotlib.pyplot as plt\n",
    "import numpy as np\n",
    "import pandas as pd\n",
    "import seaborn as sns\n",
    "from tqdm.auto import tqdm\n",
    "\n",
    "from client import SESS_DIR, Client\n",
    "\n",
    "sns.set()"
   ]
  },
  {
   "cell_type": "code",
   "execution_count": null,
   "id": "6e51f44e-6dac-4b7f-a70d-a24e9138a7dc",
   "metadata": {},
   "outputs": [],
   "source": [
    "g = Client()"
   ]
  },
  {
   "cell_type": "code",
   "execution_count": null,
   "id": "0f20a91c-9c05-4a58-a2ea-d3b09e2b6687",
   "metadata": {},
   "outputs": [],
   "source": [
    "res = pd.DataFrame(g.get_activities(start=0, limit=500))\n",
    "mask = res[\"activityType\"].apply(lambda d: d[\"typeKey\"] == \"running\")\n",
    "run = res.loc[mask]\n",
    "run.head()"
   ]
  },
  {
   "cell_type": "code",
   "execution_count": null,
   "id": "86ba88f6-bf54-4c8d-a224-b549130b9ecf",
   "metadata": {},
   "outputs": [],
   "source": [
    "acts = []\n",
    "for i, a in tqdm(enumerate(run[\"activityId\"])):\n",
    "    cur = (\n",
    "        g.get_activity(a)\n",
    "        .set_index(\"Split\")\n",
    "        .drop(\"Summary\")\n",
    "        .query(\"Distance > 0.5\")\n",
    "        .reset_index()\n",
    "    )\n",
    "    cur[\"ID\"] = i\n",
    "    acts.append(cur)\n",
    "\n",
    "acts = pd.concat(acts)"
   ]
  },
  {
   "cell_type": "code",
   "execution_count": null,
   "id": "6cd19ec8-22b5-47b4-a45d-73ac72471e16",
   "metadata": {},
   "outputs": [],
   "source": [
    "acts[\"_avg_pace\"] = pd.to_timedelta(acts[\"Avg Pace\"]).apply(lambda t: t.seconds / 60)"
   ]
  },
  {
   "cell_type": "code",
   "execution_count": null,
   "id": "443c8b01-7fa0-4498-b373-030c4b91c5db",
   "metadata": {},
   "outputs": [],
   "source": [
    "acts.groupby(\"Split\")[[\"_avg_pace\", \"Avg HR\", \"Max HR\"]].agg(\n",
    "    [\"count\", \"min\", \"max\", \"mean\", \"std\", \"median\"]\n",
    ")"
   ]
  }
 ],
 "metadata": {
  "kernelspec": {
   "display_name": "garmin",
   "language": "python",
   "name": "garmin"
  },
  "language_info": {
   "codemirror_mode": {
    "name": "ipython",
    "version": 3
   },
   "file_extension": ".py",
   "mimetype": "text/x-python",
   "name": "python",
   "nbconvert_exporter": "python",
   "pygments_lexer": "ipython3",
   "version": "3.12.7"
  }
 },
 "nbformat": 4,
 "nbformat_minor": 5
}
