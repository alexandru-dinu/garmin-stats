{
 "cells": [
  {
   "cell_type": "code",
   "execution_count": 1,
   "id": "06aefa53-d606-4f65-9b67-e0d618b09261",
   "metadata": {},
   "outputs": [],
   "source": [
    "%load_ext autoreload\n",
    "%autoreload 2"
   ]
  },
  {
   "cell_type": "code",
   "execution_count": 2,
   "id": "27416436-d7e0-4f97-88c3-386fe067a90b",
   "metadata": {},
   "outputs": [],
   "source": [
    "import matplotlib.pyplot as plt\n",
    "import numpy as np\n",
    "import pandas as pd\n",
    "import seaborn as sns\n",
    "from tqdm.auto import tqdm\n",
    "import gpxpy\n",
    "import plotly.express as px\n",
    "\n",
    "from client import SESS_DIR, Client\n",
    "\n",
    "sns.set_theme()"
   ]
  },
  {
   "cell_type": "code",
   "execution_count": 3,
   "id": "6e51f44e-6dac-4b7f-a70d-a24e9138a7dc",
   "metadata": {},
   "outputs": [
    {
     "name": "stderr",
     "output_type": "stream",
     "text": [
      "\u001b[32m2025-09-27 00:29:28.967\u001b[0m | \u001b[1mINFO    \u001b[0m | \u001b[36mclient\u001b[0m:\u001b[36m__init__\u001b[0m:\u001b[36m18\u001b[0m - \u001b[1mLoading session from /Users/alex/.cache/garmin\u001b[0m\n"
     ]
    }
   ],
   "source": [
    "g = Client()"
   ]
  },
  {
   "cell_type": "code",
   "execution_count": 10,
   "id": "0f20a91c-9c05-4a58-a2ea-d3b09e2b6687",
   "metadata": {},
   "outputs": [],
   "source": [
    "# 0 is latest, go back limit\n",
    "res = pd.DataFrame(g.get_activities(start=0, limit=500))\n",
    "res['activityType'] = res['activityType'].apply(lambda d: d.get('typeKey'))"
   ]
  },
  {
   "cell_type": "code",
   "execution_count": 12,
   "id": "fb15af24",
   "metadata": {},
   "outputs": [
    {
     "data": {
      "text/html": [
       "<div>\n",
       "<style scoped>\n",
       "    .dataframe tbody tr th:only-of-type {\n",
       "        vertical-align: middle;\n",
       "    }\n",
       "\n",
       "    .dataframe tbody tr th {\n",
       "        vertical-align: top;\n",
       "    }\n",
       "\n",
       "    .dataframe thead th {\n",
       "        text-align: right;\n",
       "    }\n",
       "</style>\n",
       "<table border=\"1\" class=\"dataframe\">\n",
       "  <thead>\n",
       "    <tr style=\"text-align: right;\">\n",
       "      <th></th>\n",
       "      <th>activityId</th>\n",
       "      <th>activityName</th>\n",
       "      <th>startTimeLocal</th>\n",
       "      <th>startTimeGMT</th>\n",
       "      <th>activityType</th>\n",
       "      <th>eventType</th>\n",
       "      <th>distance</th>\n",
       "      <th>duration</th>\n",
       "      <th>elapsedDuration</th>\n",
       "      <th>movingDuration</th>\n",
       "      <th>...</th>\n",
       "      <th>fastestSplit_21098</th>\n",
       "      <th>courseId</th>\n",
       "      <th>averageSwimCadenceInStrokesPerMinute</th>\n",
       "      <th>averageSwolf</th>\n",
       "      <th>activeLengths</th>\n",
       "      <th>poolLength</th>\n",
       "      <th>unitOfPoolLength</th>\n",
       "      <th>strokes</th>\n",
       "      <th>avgStrokeDistance</th>\n",
       "      <th>avgStrokes</th>\n",
       "    </tr>\n",
       "  </thead>\n",
       "  <tbody>\n",
       "    <tr>\n",
       "      <th>29</th>\n",
       "      <td>20278812111</td>\n",
       "      <td>City of Edinburgh Hiking</td>\n",
       "      <td>2025-09-04 12:18:32</td>\n",
       "      <td>2025-09-04 11:18:32</td>\n",
       "      <td>hiking</td>\n",
       "      <td>{'typeId': 9, 'typeKey': 'uncategorized', 'sor...</td>\n",
       "      <td>6522.790039</td>\n",
       "      <td>10865.542969</td>\n",
       "      <td>10865.542969</td>\n",
       "      <td>4408.0</td>\n",
       "      <td>...</td>\n",
       "      <td>NaN</td>\n",
       "      <td>3.602148e+09</td>\n",
       "      <td>NaN</td>\n",
       "      <td>NaN</td>\n",
       "      <td>NaN</td>\n",
       "      <td>NaN</td>\n",
       "      <td>NaN</td>\n",
       "      <td>NaN</td>\n",
       "      <td>NaN</td>\n",
       "      <td>NaN</td>\n",
       "    </tr>\n",
       "    <tr>\n",
       "      <th>34</th>\n",
       "      <td>20242999511</td>\n",
       "      <td>Highlands Hiking</td>\n",
       "      <td>2025-09-01 08:09:36</td>\n",
       "      <td>2025-09-01 07:09:36</td>\n",
       "      <td>hiking</td>\n",
       "      <td>{'typeId': 9, 'typeKey': 'uncategorized', 'sor...</td>\n",
       "      <td>3183.389893</td>\n",
       "      <td>4221.130859</td>\n",
       "      <td>4221.130859</td>\n",
       "      <td>2580.0</td>\n",
       "      <td>...</td>\n",
       "      <td>NaN</td>\n",
       "      <td>3.991371e+08</td>\n",
       "      <td>NaN</td>\n",
       "      <td>NaN</td>\n",
       "      <td>NaN</td>\n",
       "      <td>NaN</td>\n",
       "      <td>NaN</td>\n",
       "      <td>NaN</td>\n",
       "      <td>NaN</td>\n",
       "      <td>NaN</td>\n",
       "    </tr>\n",
       "    <tr>\n",
       "      <th>35</th>\n",
       "      <td>20238518520</td>\n",
       "      <td>Highlands Hiking</td>\n",
       "      <td>2025-08-31 16:33:33</td>\n",
       "      <td>2025-08-31 15:33:33</td>\n",
       "      <td>hiking</td>\n",
       "      <td>{'typeId': 9, 'typeKey': 'uncategorized', 'sor...</td>\n",
       "      <td>4359.709961</td>\n",
       "      <td>5827.619141</td>\n",
       "      <td>5827.619141</td>\n",
       "      <td>3347.0</td>\n",
       "      <td>...</td>\n",
       "      <td>NaN</td>\n",
       "      <td>3.989315e+08</td>\n",
       "      <td>NaN</td>\n",
       "      <td>NaN</td>\n",
       "      <td>NaN</td>\n",
       "      <td>NaN</td>\n",
       "      <td>NaN</td>\n",
       "      <td>NaN</td>\n",
       "      <td>NaN</td>\n",
       "      <td>NaN</td>\n",
       "    </tr>\n",
       "    <tr>\n",
       "      <th>36</th>\n",
       "      <td>20225538068</td>\n",
       "      <td>Highlands Hiking</td>\n",
       "      <td>2025-08-30 10:45:33</td>\n",
       "      <td>2025-08-30 09:45:33</td>\n",
       "      <td>hiking</td>\n",
       "      <td>{'typeId': 9, 'typeKey': 'uncategorized', 'sor...</td>\n",
       "      <td>7883.990234</td>\n",
       "      <td>13194.655273</td>\n",
       "      <td>13194.655273</td>\n",
       "      <td>5647.0</td>\n",
       "      <td>...</td>\n",
       "      <td>NaN</td>\n",
       "      <td>3.981784e+08</td>\n",
       "      <td>NaN</td>\n",
       "      <td>NaN</td>\n",
       "      <td>NaN</td>\n",
       "      <td>NaN</td>\n",
       "      <td>NaN</td>\n",
       "      <td>NaN</td>\n",
       "      <td>NaN</td>\n",
       "      <td>NaN</td>\n",
       "    </tr>\n",
       "    <tr>\n",
       "      <th>37</th>\n",
       "      <td>20217397720</td>\n",
       "      <td>Highlands Hiking</td>\n",
       "      <td>2025-08-29 16:56:34</td>\n",
       "      <td>2025-08-29 15:56:34</td>\n",
       "      <td>hiking</td>\n",
       "      <td>{'typeId': 9, 'typeKey': 'uncategorized', 'sor...</td>\n",
       "      <td>4093.169922</td>\n",
       "      <td>4693.900879</td>\n",
       "      <td>4693.900879</td>\n",
       "      <td>3053.0</td>\n",
       "      <td>...</td>\n",
       "      <td>NaN</td>\n",
       "      <td>NaN</td>\n",
       "      <td>NaN</td>\n",
       "      <td>NaN</td>\n",
       "      <td>NaN</td>\n",
       "      <td>NaN</td>\n",
       "      <td>NaN</td>\n",
       "      <td>NaN</td>\n",
       "      <td>NaN</td>\n",
       "      <td>NaN</td>\n",
       "    </tr>\n",
       "    <tr>\n",
       "      <th>38</th>\n",
       "      <td>20215514296</td>\n",
       "      <td>Highlands Hiking</td>\n",
       "      <td>2025-08-29 14:07:55</td>\n",
       "      <td>2025-08-29 13:07:55</td>\n",
       "      <td>hiking</td>\n",
       "      <td>{'typeId': 9, 'typeKey': 'uncategorized', 'sor...</td>\n",
       "      <td>1945.140015</td>\n",
       "      <td>2879.791992</td>\n",
       "      <td>2879.791992</td>\n",
       "      <td>1365.0</td>\n",
       "      <td>...</td>\n",
       "      <td>NaN</td>\n",
       "      <td>NaN</td>\n",
       "      <td>NaN</td>\n",
       "      <td>NaN</td>\n",
       "      <td>NaN</td>\n",
       "      <td>NaN</td>\n",
       "      <td>NaN</td>\n",
       "      <td>NaN</td>\n",
       "      <td>NaN</td>\n",
       "      <td>NaN</td>\n",
       "    </tr>\n",
       "    <tr>\n",
       "      <th>39</th>\n",
       "      <td>20214414359</td>\n",
       "      <td>Highlands Hiking</td>\n",
       "      <td>2025-08-29 10:09:10</td>\n",
       "      <td>2025-08-29 09:09:10</td>\n",
       "      <td>hiking</td>\n",
       "      <td>{'typeId': 9, 'typeKey': 'uncategorized', 'sor...</td>\n",
       "      <td>6037.990234</td>\n",
       "      <td>9770.075195</td>\n",
       "      <td>9770.075195</td>\n",
       "      <td>4003.0</td>\n",
       "      <td>...</td>\n",
       "      <td>NaN</td>\n",
       "      <td>3.979834e+08</td>\n",
       "      <td>NaN</td>\n",
       "      <td>NaN</td>\n",
       "      <td>NaN</td>\n",
       "      <td>NaN</td>\n",
       "      <td>NaN</td>\n",
       "      <td>NaN</td>\n",
       "      <td>NaN</td>\n",
       "      <td>NaN</td>\n",
       "    </tr>\n",
       "  </tbody>\n",
       "</table>\n",
       "<p>7 rows × 114 columns</p>\n",
       "</div>"
      ],
      "text/plain": [
       "     activityId              activityName       startTimeLocal  \\\n",
       "29  20278812111  City of Edinburgh Hiking  2025-09-04 12:18:32   \n",
       "34  20242999511          Highlands Hiking  2025-09-01 08:09:36   \n",
       "35  20238518520          Highlands Hiking  2025-08-31 16:33:33   \n",
       "36  20225538068          Highlands Hiking  2025-08-30 10:45:33   \n",
       "37  20217397720          Highlands Hiking  2025-08-29 16:56:34   \n",
       "38  20215514296          Highlands Hiking  2025-08-29 14:07:55   \n",
       "39  20214414359          Highlands Hiking  2025-08-29 10:09:10   \n",
       "\n",
       "           startTimeGMT activityType  \\\n",
       "29  2025-09-04 11:18:32       hiking   \n",
       "34  2025-09-01 07:09:36       hiking   \n",
       "35  2025-08-31 15:33:33       hiking   \n",
       "36  2025-08-30 09:45:33       hiking   \n",
       "37  2025-08-29 15:56:34       hiking   \n",
       "38  2025-08-29 13:07:55       hiking   \n",
       "39  2025-08-29 09:09:10       hiking   \n",
       "\n",
       "                                            eventType     distance  \\\n",
       "29  {'typeId': 9, 'typeKey': 'uncategorized', 'sor...  6522.790039   \n",
       "34  {'typeId': 9, 'typeKey': 'uncategorized', 'sor...  3183.389893   \n",
       "35  {'typeId': 9, 'typeKey': 'uncategorized', 'sor...  4359.709961   \n",
       "36  {'typeId': 9, 'typeKey': 'uncategorized', 'sor...  7883.990234   \n",
       "37  {'typeId': 9, 'typeKey': 'uncategorized', 'sor...  4093.169922   \n",
       "38  {'typeId': 9, 'typeKey': 'uncategorized', 'sor...  1945.140015   \n",
       "39  {'typeId': 9, 'typeKey': 'uncategorized', 'sor...  6037.990234   \n",
       "\n",
       "        duration  elapsedDuration  movingDuration  ...  fastestSplit_21098  \\\n",
       "29  10865.542969     10865.542969          4408.0  ...                 NaN   \n",
       "34   4221.130859      4221.130859          2580.0  ...                 NaN   \n",
       "35   5827.619141      5827.619141          3347.0  ...                 NaN   \n",
       "36  13194.655273     13194.655273          5647.0  ...                 NaN   \n",
       "37   4693.900879      4693.900879          3053.0  ...                 NaN   \n",
       "38   2879.791992      2879.791992          1365.0  ...                 NaN   \n",
       "39   9770.075195      9770.075195          4003.0  ...                 NaN   \n",
       "\n",
       "        courseId  averageSwimCadenceInStrokesPerMinute  averageSwolf  \\\n",
       "29  3.602148e+09                                   NaN           NaN   \n",
       "34  3.991371e+08                                   NaN           NaN   \n",
       "35  3.989315e+08                                   NaN           NaN   \n",
       "36  3.981784e+08                                   NaN           NaN   \n",
       "37           NaN                                   NaN           NaN   \n",
       "38           NaN                                   NaN           NaN   \n",
       "39  3.979834e+08                                   NaN           NaN   \n",
       "\n",
       "    activeLengths poolLength unitOfPoolLength strokes avgStrokeDistance  \\\n",
       "29            NaN        NaN              NaN     NaN               NaN   \n",
       "34            NaN        NaN              NaN     NaN               NaN   \n",
       "35            NaN        NaN              NaN     NaN               NaN   \n",
       "36            NaN        NaN              NaN     NaN               NaN   \n",
       "37            NaN        NaN              NaN     NaN               NaN   \n",
       "38            NaN        NaN              NaN     NaN               NaN   \n",
       "39            NaN        NaN              NaN     NaN               NaN   \n",
       "\n",
       "   avgStrokes  \n",
       "29        NaN  \n",
       "34        NaN  \n",
       "35        NaN  \n",
       "36        NaN  \n",
       "37        NaN  \n",
       "38        NaN  \n",
       "39        NaN  \n",
       "\n",
       "[7 rows x 114 columns]"
      ]
     },
     "execution_count": 12,
     "metadata": {},
     "output_type": "execute_result"
    }
   ],
   "source": [
    "res.query('activityType == \"hiking\"')"
   ]
  },
  {
   "cell_type": "code",
   "execution_count": null,
   "id": "78ce7c03",
   "metadata": {},
   "outputs": [],
   "source": []
  },
  {
   "cell_type": "code",
   "execution_count": 5,
   "id": "f700ab85",
   "metadata": {},
   "outputs": [
    {
     "data": {
      "text/plain": [
       "activityType\n",
       "running              164\n",
       "treadmill_running     39\n",
       "walking               28\n",
       "indoor_cycling        24\n",
       "strength_training     13\n",
       "hiking                 7\n",
       "lap_swimming           6\n",
       "track_running          2\n",
       "cycling                2\n",
       "trail_running          1\n",
       "soccer                 1\n",
       "pilates                1\n",
       "Name: count, dtype: int64"
      ]
     },
     "execution_count": 5,
     "metadata": {},
     "output_type": "execute_result"
    }
   ],
   "source": [
    "res['activityType'].apply(lambda d: d.get('typeKey')).value_counts()"
   ]
  },
  {
   "cell_type": "code",
   "execution_count": 6,
   "id": "ef2cb3e8-8129-4d8c-8b9c-424471d03de8",
   "metadata": {},
   "outputs": [
    {
     "data": {
      "text/html": [
       "<div>\n",
       "<style scoped>\n",
       "    .dataframe tbody tr th:only-of-type {\n",
       "        vertical-align: middle;\n",
       "    }\n",
       "\n",
       "    .dataframe tbody tr th {\n",
       "        vertical-align: top;\n",
       "    }\n",
       "\n",
       "    .dataframe thead th {\n",
       "        text-align: right;\n",
       "    }\n",
       "</style>\n",
       "<table border=\"1\" class=\"dataframe\">\n",
       "  <thead>\n",
       "    <tr style=\"text-align: right;\">\n",
       "      <th></th>\n",
       "      <th>activityId</th>\n",
       "      <th>activityName</th>\n",
       "      <th>startTimeLocal</th>\n",
       "      <th>startTimeGMT</th>\n",
       "      <th>activityType</th>\n",
       "      <th>eventType</th>\n",
       "      <th>distance</th>\n",
       "      <th>duration</th>\n",
       "      <th>elapsedDuration</th>\n",
       "      <th>movingDuration</th>\n",
       "      <th>...</th>\n",
       "      <th>fastestSplit_21098</th>\n",
       "      <th>courseId</th>\n",
       "      <th>averageSwimCadenceInStrokesPerMinute</th>\n",
       "      <th>averageSwolf</th>\n",
       "      <th>activeLengths</th>\n",
       "      <th>poolLength</th>\n",
       "      <th>unitOfPoolLength</th>\n",
       "      <th>strokes</th>\n",
       "      <th>avgStrokeDistance</th>\n",
       "      <th>avgStrokes</th>\n",
       "    </tr>\n",
       "  </thead>\n",
       "  <tbody>\n",
       "    <tr>\n",
       "      <th>0</th>\n",
       "      <td>20489868467</td>\n",
       "      <td>Recovery</td>\n",
       "      <td>2025-09-24 21:24:40</td>\n",
       "      <td>2025-09-24 18:24:40</td>\n",
       "      <td>{'typeId': 18, 'typeKey': 'treadmill_running',...</td>\n",
       "      <td>{'typeId': 9, 'typeKey': 'uncategorized', 'sor...</td>\n",
       "      <td>5087.189941</td>\n",
       "      <td>2077.483887</td>\n",
       "      <td>2077.483887</td>\n",
       "      <td>2075.173981</td>\n",
       "      <td>...</td>\n",
       "      <td>NaN</td>\n",
       "      <td>NaN</td>\n",
       "      <td>NaN</td>\n",
       "      <td>NaN</td>\n",
       "      <td>NaN</td>\n",
       "      <td>NaN</td>\n",
       "      <td>NaN</td>\n",
       "      <td>NaN</td>\n",
       "      <td>NaN</td>\n",
       "      <td>NaN</td>\n",
       "    </tr>\n",
       "    <tr>\n",
       "      <th>2</th>\n",
       "      <td>20472605427</td>\n",
       "      <td>Bucharest Running</td>\n",
       "      <td>2025-09-23 09:01:13</td>\n",
       "      <td>2025-09-23 06:01:13</td>\n",
       "      <td>{'typeId': 1, 'typeKey': 'running', 'parentTyp...</td>\n",
       "      <td>{'typeId': 9, 'typeKey': 'uncategorized', 'sor...</td>\n",
       "      <td>5053.439941</td>\n",
       "      <td>1646.952026</td>\n",
       "      <td>1698.256958</td>\n",
       "      <td>1640.000000</td>\n",
       "      <td>...</td>\n",
       "      <td>NaN</td>\n",
       "      <td>NaN</td>\n",
       "      <td>NaN</td>\n",
       "      <td>NaN</td>\n",
       "      <td>NaN</td>\n",
       "      <td>NaN</td>\n",
       "      <td>NaN</td>\n",
       "      <td>NaN</td>\n",
       "      <td>NaN</td>\n",
       "      <td>NaN</td>\n",
       "    </tr>\n",
       "    <tr>\n",
       "      <th>5</th>\n",
       "      <td>20452902470</td>\n",
       "      <td>Bucharest Running</td>\n",
       "      <td>2025-09-21 09:48:21</td>\n",
       "      <td>2025-09-21 06:48:21</td>\n",
       "      <td>{'typeId': 1, 'typeKey': 'running', 'parentTyp...</td>\n",
       "      <td>{'typeId': 9, 'typeKey': 'uncategorized', 'sor...</td>\n",
       "      <td>21139.789062</td>\n",
       "      <td>7188.162109</td>\n",
       "      <td>7474.581055</td>\n",
       "      <td>7103.127991</td>\n",
       "      <td>...</td>\n",
       "      <td>7461.035156</td>\n",
       "      <td>NaN</td>\n",
       "      <td>NaN</td>\n",
       "      <td>NaN</td>\n",
       "      <td>NaN</td>\n",
       "      <td>NaN</td>\n",
       "      <td>NaN</td>\n",
       "      <td>NaN</td>\n",
       "      <td>NaN</td>\n",
       "      <td>NaN</td>\n",
       "    </tr>\n",
       "    <tr>\n",
       "      <th>6</th>\n",
       "      <td>20447844132</td>\n",
       "      <td>Bucharest Track Running</td>\n",
       "      <td>2025-09-20 19:15:26</td>\n",
       "      <td>2025-09-20 16:15:26</td>\n",
       "      <td>{'typeId': 8, 'typeKey': 'track_running', 'par...</td>\n",
       "      <td>{'typeId': 9, 'typeKey': 'uncategorized', 'sor...</td>\n",
       "      <td>6860.000000</td>\n",
       "      <td>2018.090942</td>\n",
       "      <td>2018.090942</td>\n",
       "      <td>2015.276993</td>\n",
       "      <td>...</td>\n",
       "      <td>NaN</td>\n",
       "      <td>NaN</td>\n",
       "      <td>NaN</td>\n",
       "      <td>NaN</td>\n",
       "      <td>NaN</td>\n",
       "      <td>NaN</td>\n",
       "      <td>NaN</td>\n",
       "      <td>NaN</td>\n",
       "      <td>NaN</td>\n",
       "      <td>NaN</td>\n",
       "    </tr>\n",
       "    <tr>\n",
       "      <th>8</th>\n",
       "      <td>20436908352</td>\n",
       "      <td>Bucharest Running</td>\n",
       "      <td>2025-09-19 19:08:18</td>\n",
       "      <td>2025-09-19 16:08:18</td>\n",
       "      <td>{'typeId': 1, 'typeKey': 'running', 'parentTyp...</td>\n",
       "      <td>{'typeId': 9, 'typeKey': 'uncategorized', 'sor...</td>\n",
       "      <td>5022.870117</td>\n",
       "      <td>1390.369019</td>\n",
       "      <td>1390.369019</td>\n",
       "      <td>1388.529022</td>\n",
       "      <td>...</td>\n",
       "      <td>NaN</td>\n",
       "      <td>NaN</td>\n",
       "      <td>NaN</td>\n",
       "      <td>NaN</td>\n",
       "      <td>NaN</td>\n",
       "      <td>NaN</td>\n",
       "      <td>NaN</td>\n",
       "      <td>NaN</td>\n",
       "      <td>NaN</td>\n",
       "      <td>NaN</td>\n",
       "    </tr>\n",
       "  </tbody>\n",
       "</table>\n",
       "<p>5 rows × 114 columns</p>\n",
       "</div>"
      ],
      "text/plain": [
       "    activityId             activityName       startTimeLocal  \\\n",
       "0  20489868467                 Recovery  2025-09-24 21:24:40   \n",
       "2  20472605427        Bucharest Running  2025-09-23 09:01:13   \n",
       "5  20452902470        Bucharest Running  2025-09-21 09:48:21   \n",
       "6  20447844132  Bucharest Track Running  2025-09-20 19:15:26   \n",
       "8  20436908352        Bucharest Running  2025-09-19 19:08:18   \n",
       "\n",
       "          startTimeGMT                                       activityType  \\\n",
       "0  2025-09-24 18:24:40  {'typeId': 18, 'typeKey': 'treadmill_running',...   \n",
       "2  2025-09-23 06:01:13  {'typeId': 1, 'typeKey': 'running', 'parentTyp...   \n",
       "5  2025-09-21 06:48:21  {'typeId': 1, 'typeKey': 'running', 'parentTyp...   \n",
       "6  2025-09-20 16:15:26  {'typeId': 8, 'typeKey': 'track_running', 'par...   \n",
       "8  2025-09-19 16:08:18  {'typeId': 1, 'typeKey': 'running', 'parentTyp...   \n",
       "\n",
       "                                           eventType      distance  \\\n",
       "0  {'typeId': 9, 'typeKey': 'uncategorized', 'sor...   5087.189941   \n",
       "2  {'typeId': 9, 'typeKey': 'uncategorized', 'sor...   5053.439941   \n",
       "5  {'typeId': 9, 'typeKey': 'uncategorized', 'sor...  21139.789062   \n",
       "6  {'typeId': 9, 'typeKey': 'uncategorized', 'sor...   6860.000000   \n",
       "8  {'typeId': 9, 'typeKey': 'uncategorized', 'sor...   5022.870117   \n",
       "\n",
       "      duration  elapsedDuration  movingDuration  ...  fastestSplit_21098  \\\n",
       "0  2077.483887      2077.483887     2075.173981  ...                 NaN   \n",
       "2  1646.952026      1698.256958     1640.000000  ...                 NaN   \n",
       "5  7188.162109      7474.581055     7103.127991  ...         7461.035156   \n",
       "6  2018.090942      2018.090942     2015.276993  ...                 NaN   \n",
       "8  1390.369019      1390.369019     1388.529022  ...                 NaN   \n",
       "\n",
       "   courseId  averageSwimCadenceInStrokesPerMinute  averageSwolf  \\\n",
       "0       NaN                                   NaN           NaN   \n",
       "2       NaN                                   NaN           NaN   \n",
       "5       NaN                                   NaN           NaN   \n",
       "6       NaN                                   NaN           NaN   \n",
       "8       NaN                                   NaN           NaN   \n",
       "\n",
       "   activeLengths poolLength unitOfPoolLength strokes avgStrokeDistance  \\\n",
       "0            NaN        NaN              NaN     NaN               NaN   \n",
       "2            NaN        NaN              NaN     NaN               NaN   \n",
       "5            NaN        NaN              NaN     NaN               NaN   \n",
       "6            NaN        NaN              NaN     NaN               NaN   \n",
       "8            NaN        NaN              NaN     NaN               NaN   \n",
       "\n",
       "  avgStrokes  \n",
       "0        NaN  \n",
       "2        NaN  \n",
       "5        NaN  \n",
       "6        NaN  \n",
       "8        NaN  \n",
       "\n",
       "[5 rows x 114 columns]"
      ]
     },
     "execution_count": 6,
     "metadata": {},
     "output_type": "execute_result"
    }
   ],
   "source": [
    "mask = res[\"activityType\"].apply(lambda d: \"running\" in d[\"typeKey\"])\n",
    "run = res.loc[mask]\n",
    "run.head()"
   ]
  },
  {
   "cell_type": "code",
   "execution_count": 47,
   "id": "65d427ba",
   "metadata": {},
   "outputs": [
    {
     "data": {
      "text/plain": [
       "GPX(tracks=[GPXTrack(name='Recovery', segments=[GPXTrackSegment(points=[])])])"
      ]
     },
     "execution_count": 47,
     "metadata": {},
     "output_type": "execute_result"
    }
   ],
   "source": [
    "data = g.get_activity(activity_id='20489868467', format='gpx').decode()\n",
    "gpx = gpxpy.parse(data)\n",
    "gpx"
   ]
  },
  {
   "cell_type": "code",
   "execution_count": 43,
   "id": "5b67fdcb",
   "metadata": {},
   "outputs": [
    {
     "data": {
      "application/vnd.plotly.v1+json": {
       "config": {
        "plotlyServerURL": "https://plot.ly"
       },
       "data": [
        {
         "hovertemplate": "variable=0<br>index=%{x}<br>value=%{y}<extra></extra>",
         "legendgroup": "0",
         "marker": {
          "color": "#636efa",
          "symbol": "circle"
         },
         "mode": "markers",
         "name": "0",
         "showlegend": true,
         "type": "scattergl",
         "x": {
          "bdata": "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",
          "dtype": "i2"
         },
         "xaxis": "x",
         "y": {
          "bdata": "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",
          "dtype": "i2"
         },
         "yaxis": "y"
        }
       ],
       "layout": {
        "legend": {
         "title": {
          "text": "variable"
         },
         "tracegroupgap": 0
        },
        "margin": {
         "t": 60
        },
        "template": {
         "data": {
          "bar": [
           {
            "error_x": {
             "color": "#2a3f5f"
            },
            "error_y": {
             "color": "#2a3f5f"
            },
            "marker": {
             "line": {
              "color": "#E5ECF6",
              "width": 0.5
             },
             "pattern": {
              "fillmode": "overlay",
              "size": 10,
              "solidity": 0.2
             }
            },
            "type": "bar"
           }
          ],
          "barpolar": [
           {
            "marker": {
             "line": {
              "color": "#E5ECF6",
              "width": 0.5
             },
             "pattern": {
              "fillmode": "overlay",
              "size": 10,
              "solidity": 0.2
             }
            },
            "type": "barpolar"
           }
          ],
          "carpet": [
           {
            "aaxis": {
             "endlinecolor": "#2a3f5f",
             "gridcolor": "white",
             "linecolor": "white",
             "minorgridcolor": "white",
             "startlinecolor": "#2a3f5f"
            },
            "baxis": {
             "endlinecolor": "#2a3f5f",
             "gridcolor": "white",
             "linecolor": "white",
             "minorgridcolor": "white",
             "startlinecolor": "#2a3f5f"
            },
            "type": "carpet"
           }
          ],
          "choropleth": [
           {
            "colorbar": {
             "outlinewidth": 0,
             "ticks": ""
            },
            "type": "choropleth"
           }
          ],
          "contour": [
           {
            "colorbar": {
             "outlinewidth": 0,
             "ticks": ""
            },
            "colorscale": [
             [
              0,
              "#0d0887"
             ],
             [
              0.1111111111111111,
              "#46039f"
             ],
             [
              0.2222222222222222,
              "#7201a8"
             ],
             [
              0.3333333333333333,
              "#9c179e"
             ],
             [
              0.4444444444444444,
              "#bd3786"
             ],
             [
              0.5555555555555556,
              "#d8576b"
             ],
             [
              0.6666666666666666,
              "#ed7953"
             ],
             [
              0.7777777777777778,
              "#fb9f3a"
             ],
             [
              0.8888888888888888,
              "#fdca26"
             ],
             [
              1,
              "#f0f921"
             ]
            ],
            "type": "contour"
           }
          ],
          "contourcarpet": [
           {
            "colorbar": {
             "outlinewidth": 0,
             "ticks": ""
            },
            "type": "contourcarpet"
           }
          ],
          "heatmap": [
           {
            "colorbar": {
             "outlinewidth": 0,
             "ticks": ""
            },
            "colorscale": [
             [
              0,
              "#0d0887"
             ],
             [
              0.1111111111111111,
              "#46039f"
             ],
             [
              0.2222222222222222,
              "#7201a8"
             ],
             [
              0.3333333333333333,
              "#9c179e"
             ],
             [
              0.4444444444444444,
              "#bd3786"
             ],
             [
              0.5555555555555556,
              "#d8576b"
             ],
             [
              0.6666666666666666,
              "#ed7953"
             ],
             [
              0.7777777777777778,
              "#fb9f3a"
             ],
             [
              0.8888888888888888,
              "#fdca26"
             ],
             [
              1,
              "#f0f921"
             ]
            ],
            "type": "heatmap"
           }
          ],
          "histogram": [
           {
            "marker": {
             "pattern": {
              "fillmode": "overlay",
              "size": 10,
              "solidity": 0.2
             }
            },
            "type": "histogram"
           }
          ],
          "histogram2d": [
           {
            "colorbar": {
             "outlinewidth": 0,
             "ticks": ""
            },
            "colorscale": [
             [
              0,
              "#0d0887"
             ],
             [
              0.1111111111111111,
              "#46039f"
             ],
             [
              0.2222222222222222,
              "#7201a8"
             ],
             [
              0.3333333333333333,
              "#9c179e"
             ],
             [
              0.4444444444444444,
              "#bd3786"
             ],
             [
              0.5555555555555556,
              "#d8576b"
             ],
             [
              0.6666666666666666,
              "#ed7953"
             ],
             [
              0.7777777777777778,
              "#fb9f3a"
             ],
             [
              0.8888888888888888,
              "#fdca26"
             ],
             [
              1,
              "#f0f921"
             ]
            ],
            "type": "histogram2d"
           }
          ],
          "histogram2dcontour": [
           {
            "colorbar": {
             "outlinewidth": 0,
             "ticks": ""
            },
            "colorscale": [
             [
              0,
              "#0d0887"
             ],
             [
              0.1111111111111111,
              "#46039f"
             ],
             [
              0.2222222222222222,
              "#7201a8"
             ],
             [
              0.3333333333333333,
              "#9c179e"
             ],
             [
              0.4444444444444444,
              "#bd3786"
             ],
             [
              0.5555555555555556,
              "#d8576b"
             ],
             [
              0.6666666666666666,
              "#ed7953"
             ],
             [
              0.7777777777777778,
              "#fb9f3a"
             ],
             [
              0.8888888888888888,
              "#fdca26"
             ],
             [
              1,
              "#f0f921"
             ]
            ],
            "type": "histogram2dcontour"
           }
          ],
          "mesh3d": [
           {
            "colorbar": {
             "outlinewidth": 0,
             "ticks": ""
            },
            "type": "mesh3d"
           }
          ],
          "parcoords": [
           {
            "line": {
             "colorbar": {
              "outlinewidth": 0,
              "ticks": ""
             }
            },
            "type": "parcoords"
           }
          ],
          "pie": [
           {
            "automargin": true,
            "type": "pie"
           }
          ],
          "scatter": [
           {
            "fillpattern": {
             "fillmode": "overlay",
             "size": 10,
             "solidity": 0.2
            },
            "type": "scatter"
           }
          ],
          "scatter3d": [
           {
            "line": {
             "colorbar": {
              "outlinewidth": 0,
              "ticks": ""
             }
            },
            "marker": {
             "colorbar": {
              "outlinewidth": 0,
              "ticks": ""
             }
            },
            "type": "scatter3d"
           }
          ],
          "scattercarpet": [
           {
            "marker": {
             "colorbar": {
              "outlinewidth": 0,
              "ticks": ""
             }
            },
            "type": "scattercarpet"
           }
          ],
          "scattergeo": [
           {
            "marker": {
             "colorbar": {
              "outlinewidth": 0,
              "ticks": ""
             }
            },
            "type": "scattergeo"
           }
          ],
          "scattergl": [
           {
            "marker": {
             "colorbar": {
              "outlinewidth": 0,
              "ticks": ""
             }
            },
            "type": "scattergl"
           }
          ],
          "scattermap": [
           {
            "marker": {
             "colorbar": {
              "outlinewidth": 0,
              "ticks": ""
             }
            },
            "type": "scattermap"
           }
          ],
          "scattermapbox": [
           {
            "marker": {
             "colorbar": {
              "outlinewidth": 0,
              "ticks": ""
             }
            },
            "type": "scattermapbox"
           }
          ],
          "scatterpolar": [
           {
            "marker": {
             "colorbar": {
              "outlinewidth": 0,
              "ticks": ""
             }
            },
            "type": "scatterpolar"
           }
          ],
          "scatterpolargl": [
           {
            "marker": {
             "colorbar": {
              "outlinewidth": 0,
              "ticks": ""
             }
            },
            "type": "scatterpolargl"
           }
          ],
          "scatterternary": [
           {
            "marker": {
             "colorbar": {
              "outlinewidth": 0,
              "ticks": ""
             }
            },
            "type": "scatterternary"
           }
          ],
          "surface": [
           {
            "colorbar": {
             "outlinewidth": 0,
             "ticks": ""
            },
            "colorscale": [
             [
              0,
              "#0d0887"
             ],
             [
              0.1111111111111111,
              "#46039f"
             ],
             [
              0.2222222222222222,
              "#7201a8"
             ],
             [
              0.3333333333333333,
              "#9c179e"
             ],
             [
              0.4444444444444444,
              "#bd3786"
             ],
             [
              0.5555555555555556,
              "#d8576b"
             ],
             [
              0.6666666666666666,
              "#ed7953"
             ],
             [
              0.7777777777777778,
              "#fb9f3a"
             ],
             [
              0.8888888888888888,
              "#fdca26"
             ],
             [
              1,
              "#f0f921"
             ]
            ],
            "type": "surface"
           }
          ],
          "table": [
           {
            "cells": {
             "fill": {
              "color": "#EBF0F8"
             },
             "line": {
              "color": "white"
             }
            },
            "header": {
             "fill": {
              "color": "#C8D4E3"
             },
             "line": {
              "color": "white"
             }
            },
            "type": "table"
           }
          ]
         },
         "layout": {
          "annotationdefaults": {
           "arrowcolor": "#2a3f5f",
           "arrowhead": 0,
           "arrowwidth": 1
          },
          "autotypenumbers": "strict",
          "coloraxis": {
           "colorbar": {
            "outlinewidth": 0,
            "ticks": ""
           }
          },
          "colorscale": {
           "diverging": [
            [
             0,
             "#8e0152"
            ],
            [
             0.1,
             "#c51b7d"
            ],
            [
             0.2,
             "#de77ae"
            ],
            [
             0.3,
             "#f1b6da"
            ],
            [
             0.4,
             "#fde0ef"
            ],
            [
             0.5,
             "#f7f7f7"
            ],
            [
             0.6,
             "#e6f5d0"
            ],
            [
             0.7,
             "#b8e186"
            ],
            [
             0.8,
             "#7fbc41"
            ],
            [
             0.9,
             "#4d9221"
            ],
            [
             1,
             "#276419"
            ]
           ],
           "sequential": [
            [
             0,
             "#0d0887"
            ],
            [
             0.1111111111111111,
             "#46039f"
            ],
            [
             0.2222222222222222,
             "#7201a8"
            ],
            [
             0.3333333333333333,
             "#9c179e"
            ],
            [
             0.4444444444444444,
             "#bd3786"
            ],
            [
             0.5555555555555556,
             "#d8576b"
            ],
            [
             0.6666666666666666,
             "#ed7953"
            ],
            [
             0.7777777777777778,
             "#fb9f3a"
            ],
            [
             0.8888888888888888,
             "#fdca26"
            ],
            [
             1,
             "#f0f921"
            ]
           ],
           "sequentialminus": [
            [
             0,
             "#0d0887"
            ],
            [
             0.1111111111111111,
             "#46039f"
            ],
            [
             0.2222222222222222,
             "#7201a8"
            ],
            [
             0.3333333333333333,
             "#9c179e"
            ],
            [
             0.4444444444444444,
             "#bd3786"
            ],
            [
             0.5555555555555556,
             "#d8576b"
            ],
            [
             0.6666666666666666,
             "#ed7953"
            ],
            [
             0.7777777777777778,
             "#fb9f3a"
            ],
            [
             0.8888888888888888,
             "#fdca26"
            ],
            [
             1,
             "#f0f921"
            ]
           ]
          },
          "colorway": [
           "#636efa",
           "#EF553B",
           "#00cc96",
           "#ab63fa",
           "#FFA15A",
           "#19d3f3",
           "#FF6692",
           "#B6E880",
           "#FF97FF",
           "#FECB52"
          ],
          "font": {
           "color": "#2a3f5f"
          },
          "geo": {
           "bgcolor": "white",
           "lakecolor": "white",
           "landcolor": "#E5ECF6",
           "showlakes": true,
           "showland": true,
           "subunitcolor": "white"
          },
          "hoverlabel": {
           "align": "left"
          },
          "hovermode": "closest",
          "mapbox": {
           "style": "light"
          },
          "paper_bgcolor": "white",
          "plot_bgcolor": "#E5ECF6",
          "polar": {
           "angularaxis": {
            "gridcolor": "white",
            "linecolor": "white",
            "ticks": ""
           },
           "bgcolor": "#E5ECF6",
           "radialaxis": {
            "gridcolor": "white",
            "linecolor": "white",
            "ticks": ""
           }
          },
          "scene": {
           "xaxis": {
            "backgroundcolor": "#E5ECF6",
            "gridcolor": "white",
            "gridwidth": 2,
            "linecolor": "white",
            "showbackground": true,
            "ticks": "",
            "zerolinecolor": "white"
           },
           "yaxis": {
            "backgroundcolor": "#E5ECF6",
            "gridcolor": "white",
            "gridwidth": 2,
            "linecolor": "white",
            "showbackground": true,
            "ticks": "",
            "zerolinecolor": "white"
           },
           "zaxis": {
            "backgroundcolor": "#E5ECF6",
            "gridcolor": "white",
            "gridwidth": 2,
            "linecolor": "white",
            "showbackground": true,
            "ticks": "",
            "zerolinecolor": "white"
           }
          },
          "shapedefaults": {
           "line": {
            "color": "#2a3f5f"
           }
          },
          "ternary": {
           "aaxis": {
            "gridcolor": "white",
            "linecolor": "white",
            "ticks": ""
           },
           "baxis": {
            "gridcolor": "white",
            "linecolor": "white",
            "ticks": ""
           },
           "bgcolor": "#E5ECF6",
           "caxis": {
            "gridcolor": "white",
            "linecolor": "white",
            "ticks": ""
           }
          },
          "title": {
           "x": 0.05
          },
          "xaxis": {
           "automargin": true,
           "gridcolor": "white",
           "linecolor": "white",
           "ticks": "",
           "title": {
            "standoff": 15
           },
           "zerolinecolor": "white",
           "zerolinewidth": 2
          },
          "yaxis": {
           "automargin": true,
           "gridcolor": "white",
           "linecolor": "white",
           "ticks": "",
           "title": {
            "standoff": 15
           },
           "zerolinecolor": "white",
           "zerolinewidth": 2
          }
         }
        },
        "xaxis": {
         "anchor": "y",
         "domain": [
          0,
          1
         ],
         "title": {
          "text": "index"
         }
        },
        "yaxis": {
         "anchor": "x",
         "domain": [
          0,
          1
         ],
         "title": {
          "text": "value"
         }
        }
       }
      }
     },
     "metadata": {},
     "output_type": "display_data"
    }
   ],
   "source": [
    "hr = [\n",
    "    int(pt.extensions[0].find('.//{*}hr').text) for pt in gpx.tracks[0].segments[0].points\n",
    "]\n",
    "px.scatter(hr)\n"
   ]
  },
  {
   "cell_type": "code",
   "execution_count": 47,
   "id": "288b1b0b-a8a7-4716-a2ba-aeff44995218",
   "metadata": {},
   "outputs": [],
   "source": [
    "x = run.query('distance >= 15000').iloc[0].to_dict()"
   ]
  },
  {
   "cell_type": "code",
   "execution_count": 50,
   "id": "7488988c-2a76-4b35-aee6-82d5d62059ba",
   "metadata": {},
   "outputs": [
    {
     "data": {
      "text/html": [
       "<div>\n",
       "<style scoped>\n",
       "    .dataframe tbody tr th:only-of-type {\n",
       "        vertical-align: middle;\n",
       "    }\n",
       "\n",
       "    .dataframe tbody tr th {\n",
       "        vertical-align: top;\n",
       "    }\n",
       "\n",
       "    .dataframe thead th {\n",
       "        text-align: right;\n",
       "    }\n",
       "</style>\n",
       "<table border=\"1\" class=\"dataframe\">\n",
       "  <thead>\n",
       "    <tr style=\"text-align: right;\">\n",
       "      <th></th>\n",
       "      <th>Split</th>\n",
       "      <th>Time</th>\n",
       "      <th>Moving Time</th>\n",
       "      <th>Distance</th>\n",
       "      <th>Elevation Gain</th>\n",
       "      <th>Elev Loss</th>\n",
       "      <th>Avg Pace</th>\n",
       "      <th>Avg Moving Paces</th>\n",
       "      <th>Best Pace</th>\n",
       "      <th>Avg Run Cadence</th>\n",
       "      <th>Max Run Cadence</th>\n",
       "      <th>Avg Stride Length</th>\n",
       "      <th>Avg HR</th>\n",
       "      <th>Max HR</th>\n",
       "      <th>Avg Temperature</th>\n",
       "      <th>Calories</th>\n",
       "    </tr>\n",
       "  </thead>\n",
       "  <tbody>\n",
       "    <tr>\n",
       "      <th>0</th>\n",
       "      <td>1</td>\n",
       "      <td>00:05:27.254</td>\n",
       "      <td>00:05:24.000</td>\n",
       "      <td>1.00</td>\n",
       "      <td>0</td>\n",
       "      <td>0</td>\n",
       "      <td>0:05:27</td>\n",
       "      <td>0:05:23</td>\n",
       "      <td>0:04:01</td>\n",
       "      <td>152.718750</td>\n",
       "      <td>163.0</td>\n",
       "      <td>117.930005</td>\n",
       "      <td>154.0</td>\n",
       "      <td>170.0</td>\n",
       "      <td>31.00</td>\n",
       "      <td>78</td>\n",
       "    </tr>\n",
       "    <tr>\n",
       "      <th>1</th>\n",
       "      <td>2</td>\n",
       "      <td>00:05:20.828</td>\n",
       "      <td>00:05:17.000</td>\n",
       "      <td>1.00</td>\n",
       "      <td>4</td>\n",
       "      <td>0</td>\n",
       "      <td>0:05:20</td>\n",
       "      <td>0:05:16</td>\n",
       "      <td>0:04:48</td>\n",
       "      <td>155.312500</td>\n",
       "      <td>163.0</td>\n",
       "      <td>119.719995</td>\n",
       "      <td>170.0</td>\n",
       "      <td>176.0</td>\n",
       "      <td>29.00</td>\n",
       "      <td>81</td>\n",
       "    </tr>\n",
       "    <tr>\n",
       "      <th>2</th>\n",
       "      <td>3</td>\n",
       "      <td>00:05:23.649</td>\n",
       "      <td>00:05:23.649</td>\n",
       "      <td>1.00</td>\n",
       "      <td>1</td>\n",
       "      <td>1</td>\n",
       "      <td>0:05:23</td>\n",
       "      <td>0:05:23</td>\n",
       "      <td>0:05:09</td>\n",
       "      <td>155.625000</td>\n",
       "      <td>161.0</td>\n",
       "      <td>117.840002</td>\n",
       "      <td>173.0</td>\n",
       "      <td>177.0</td>\n",
       "      <td>28.00</td>\n",
       "      <td>82</td>\n",
       "    </tr>\n",
       "    <tr>\n",
       "      <th>3</th>\n",
       "      <td>4</td>\n",
       "      <td>00:05:23.292</td>\n",
       "      <td>00:05:17.000</td>\n",
       "      <td>1.00</td>\n",
       "      <td>2</td>\n",
       "      <td>0</td>\n",
       "      <td>0:05:23</td>\n",
       "      <td>0:05:16</td>\n",
       "      <td>0:04:44</td>\n",
       "      <td>150.312500</td>\n",
       "      <td>163.0</td>\n",
       "      <td>120.250000</td>\n",
       "      <td>169.0</td>\n",
       "      <td>182.0</td>\n",
       "      <td>29.00</td>\n",
       "      <td>79</td>\n",
       "    </tr>\n",
       "    <tr>\n",
       "      <th>4</th>\n",
       "      <td>5</td>\n",
       "      <td>00:05:30.578</td>\n",
       "      <td>00:05:30.578</td>\n",
       "      <td>1.00</td>\n",
       "      <td>2</td>\n",
       "      <td>0</td>\n",
       "      <td>0:05:30</td>\n",
       "      <td>0:05:30</td>\n",
       "      <td>0:05:18</td>\n",
       "      <td>155.515625</td>\n",
       "      <td>160.0</td>\n",
       "      <td>114.709998</td>\n",
       "      <td>177.0</td>\n",
       "      <td>181.0</td>\n",
       "      <td>28.00</td>\n",
       "      <td>82</td>\n",
       "    </tr>\n",
       "    <tr>\n",
       "      <th>5</th>\n",
       "      <td>6</td>\n",
       "      <td>00:05:31.258</td>\n",
       "      <td>00:05:29.000</td>\n",
       "      <td>1.00</td>\n",
       "      <td>1</td>\n",
       "      <td>5</td>\n",
       "      <td>0:05:31</td>\n",
       "      <td>0:05:29</td>\n",
       "      <td>0:04:47</td>\n",
       "      <td>155.343750</td>\n",
       "      <td>164.0</td>\n",
       "      <td>115.969995</td>\n",
       "      <td>169.0</td>\n",
       "      <td>179.0</td>\n",
       "      <td>28.00</td>\n",
       "      <td>78</td>\n",
       "    </tr>\n",
       "    <tr>\n",
       "      <th>6</th>\n",
       "      <td>7</td>\n",
       "      <td>00:05:33.010</td>\n",
       "      <td>00:05:33.000</td>\n",
       "      <td>1.00</td>\n",
       "      <td>1</td>\n",
       "      <td>15</td>\n",
       "      <td>0:05:33</td>\n",
       "      <td>0:05:33</td>\n",
       "      <td>0:05:20</td>\n",
       "      <td>156.765625</td>\n",
       "      <td>163.0</td>\n",
       "      <td>114.490002</td>\n",
       "      <td>172.0</td>\n",
       "      <td>178.0</td>\n",
       "      <td>28.00</td>\n",
       "      <td>81</td>\n",
       "    </tr>\n",
       "    <tr>\n",
       "      <th>7</th>\n",
       "      <td>8</td>\n",
       "      <td>00:05:27.624</td>\n",
       "      <td>00:05:27.624</td>\n",
       "      <td>1.00</td>\n",
       "      <td>1</td>\n",
       "      <td>1</td>\n",
       "      <td>0:05:27</td>\n",
       "      <td>0:05:27</td>\n",
       "      <td>0:04:56</td>\n",
       "      <td>155.593750</td>\n",
       "      <td>165.0</td>\n",
       "      <td>116.530005</td>\n",
       "      <td>167.0</td>\n",
       "      <td>179.0</td>\n",
       "      <td>28.00</td>\n",
       "      <td>77</td>\n",
       "    </tr>\n",
       "    <tr>\n",
       "      <th>8</th>\n",
       "      <td>9</td>\n",
       "      <td>00:05:36.334</td>\n",
       "      <td>00:05:36.000</td>\n",
       "      <td>1.00</td>\n",
       "      <td>0</td>\n",
       "      <td>0</td>\n",
       "      <td>0:05:36</td>\n",
       "      <td>0:05:36</td>\n",
       "      <td>0:05:29</td>\n",
       "      <td>156.765625</td>\n",
       "      <td>161.0</td>\n",
       "      <td>113.069995</td>\n",
       "      <td>168.0</td>\n",
       "      <td>171.0</td>\n",
       "      <td>26.00</td>\n",
       "      <td>80</td>\n",
       "    </tr>\n",
       "    <tr>\n",
       "      <th>9</th>\n",
       "      <td>10</td>\n",
       "      <td>00:05:32.565</td>\n",
       "      <td>00:05:32.565</td>\n",
       "      <td>1.00</td>\n",
       "      <td>0</td>\n",
       "      <td>0</td>\n",
       "      <td>0:05:32</td>\n",
       "      <td>0:05:32</td>\n",
       "      <td>0:05:18</td>\n",
       "      <td>157.968750</td>\n",
       "      <td>161.0</td>\n",
       "      <td>114.430005</td>\n",
       "      <td>169.0</td>\n",
       "      <td>173.0</td>\n",
       "      <td>26.00</td>\n",
       "      <td>80</td>\n",
       "    </tr>\n",
       "    <tr>\n",
       "      <th>10</th>\n",
       "      <td>11</td>\n",
       "      <td>00:05:30.107</td>\n",
       "      <td>00:05:25.000</td>\n",
       "      <td>1.00</td>\n",
       "      <td>1</td>\n",
       "      <td>1</td>\n",
       "      <td>0:05:30</td>\n",
       "      <td>0:05:25</td>\n",
       "      <td>0:05:11</td>\n",
       "      <td>157.187500</td>\n",
       "      <td>214.0</td>\n",
       "      <td>115.530005</td>\n",
       "      <td>168.0</td>\n",
       "      <td>174.0</td>\n",
       "      <td>26.00</td>\n",
       "      <td>79</td>\n",
       "    </tr>\n",
       "    <tr>\n",
       "      <th>11</th>\n",
       "      <td>12</td>\n",
       "      <td>00:05:33.568</td>\n",
       "      <td>00:05:33.568</td>\n",
       "      <td>1.00</td>\n",
       "      <td>0</td>\n",
       "      <td>1</td>\n",
       "      <td>0:05:33</td>\n",
       "      <td>0:05:33</td>\n",
       "      <td>0:05:20</td>\n",
       "      <td>157.859375</td>\n",
       "      <td>161.0</td>\n",
       "      <td>113.950000</td>\n",
       "      <td>174.0</td>\n",
       "      <td>177.0</td>\n",
       "      <td>26.00</td>\n",
       "      <td>81</td>\n",
       "    </tr>\n",
       "    <tr>\n",
       "      <th>12</th>\n",
       "      <td>13</td>\n",
       "      <td>00:05:35.255</td>\n",
       "      <td>00:05:35.000</td>\n",
       "      <td>1.00</td>\n",
       "      <td>0</td>\n",
       "      <td>1</td>\n",
       "      <td>0:05:35</td>\n",
       "      <td>0:05:35</td>\n",
       "      <td>0:05:26</td>\n",
       "      <td>157.906250</td>\n",
       "      <td>161.0</td>\n",
       "      <td>113.490002</td>\n",
       "      <td>174.0</td>\n",
       "      <td>176.0</td>\n",
       "      <td>25.00</td>\n",
       "      <td>81</td>\n",
       "    </tr>\n",
       "    <tr>\n",
       "      <th>13</th>\n",
       "      <td>14</td>\n",
       "      <td>00:05:17.372</td>\n",
       "      <td>00:05:17.000</td>\n",
       "      <td>1.00</td>\n",
       "      <td>1</td>\n",
       "      <td>0</td>\n",
       "      <td>0:05:17</td>\n",
       "      <td>0:05:16</td>\n",
       "      <td>0:05:04</td>\n",
       "      <td>160.578125</td>\n",
       "      <td>169.0</td>\n",
       "      <td>118.300000</td>\n",
       "      <td>178.0</td>\n",
       "      <td>180.0</td>\n",
       "      <td>26.00</td>\n",
       "      <td>81</td>\n",
       "    </tr>\n",
       "    <tr>\n",
       "      <th>14</th>\n",
       "      <td>15</td>\n",
       "      <td>00:04:58.880</td>\n",
       "      <td>00:04:58.880</td>\n",
       "      <td>1.00</td>\n",
       "      <td>2</td>\n",
       "      <td>0</td>\n",
       "      <td>0:04:58</td>\n",
       "      <td>0:04:58</td>\n",
       "      <td>0:04:32</td>\n",
       "      <td>162.421875</td>\n",
       "      <td>169.0</td>\n",
       "      <td>123.119995</td>\n",
       "      <td>175.0</td>\n",
       "      <td>182.0</td>\n",
       "      <td>25.00</td>\n",
       "      <td>76</td>\n",
       "    </tr>\n",
       "    <tr>\n",
       "      <th>15</th>\n",
       "      <td>16</td>\n",
       "      <td>00:00:13.751</td>\n",
       "      <td>00:00:13.000</td>\n",
       "      <td>0.05</td>\n",
       "      <td>0</td>\n",
       "      <td>0</td>\n",
       "      <td>0:05:02</td>\n",
       "      <td>0:04:46</td>\n",
       "      <td>0:04:42</td>\n",
       "      <td>163.578125</td>\n",
       "      <td>165.0</td>\n",
       "      <td>129.509998</td>\n",
       "      <td>183.0</td>\n",
       "      <td>183.0</td>\n",
       "      <td>25.00</td>\n",
       "      <td>4</td>\n",
       "    </tr>\n",
       "    <tr>\n",
       "      <th>16</th>\n",
       "      <td>Summary</td>\n",
       "      <td>01:21:55.325</td>\n",
       "      <td>01:21:32.864</td>\n",
       "      <td>15.05</td>\n",
       "      <td>18</td>\n",
       "      <td>25</td>\n",
       "      <td>0:05:26</td>\n",
       "      <td>0:05:25</td>\n",
       "      <td>0:04:01</td>\n",
       "      <td>156.515625</td>\n",
       "      <td>214.0</td>\n",
       "      <td>116.580005</td>\n",
       "      <td>171.0</td>\n",
       "      <td>183.0</td>\n",
       "      <td>27.26</td>\n",
       "      <td>1201</td>\n",
       "    </tr>\n",
       "  </tbody>\n",
       "</table>\n",
       "</div>"
      ],
      "text/plain": [
       "      Split          Time   Moving Time  Distance  Elevation Gain  Elev Loss  \\\n",
       "0         1  00:05:27.254  00:05:24.000      1.00               0          0   \n",
       "1         2  00:05:20.828  00:05:17.000      1.00               4          0   \n",
       "2         3  00:05:23.649  00:05:23.649      1.00               1          1   \n",
       "3         4  00:05:23.292  00:05:17.000      1.00               2          0   \n",
       "4         5  00:05:30.578  00:05:30.578      1.00               2          0   \n",
       "5         6  00:05:31.258  00:05:29.000      1.00               1          5   \n",
       "6         7  00:05:33.010  00:05:33.000      1.00               1         15   \n",
       "7         8  00:05:27.624  00:05:27.624      1.00               1          1   \n",
       "8         9  00:05:36.334  00:05:36.000      1.00               0          0   \n",
       "9        10  00:05:32.565  00:05:32.565      1.00               0          0   \n",
       "10       11  00:05:30.107  00:05:25.000      1.00               1          1   \n",
       "11       12  00:05:33.568  00:05:33.568      1.00               0          1   \n",
       "12       13  00:05:35.255  00:05:35.000      1.00               0          1   \n",
       "13       14  00:05:17.372  00:05:17.000      1.00               1          0   \n",
       "14       15  00:04:58.880  00:04:58.880      1.00               2          0   \n",
       "15       16  00:00:13.751  00:00:13.000      0.05               0          0   \n",
       "16  Summary  01:21:55.325  01:21:32.864     15.05              18         25   \n",
       "\n",
       "     Avg Pace Avg Moving Paces  Best Pace  Avg Run Cadence  Max Run Cadence  \\\n",
       "0   0:05:27          0:05:23    0:04:01         152.718750            163.0   \n",
       "1   0:05:20          0:05:16    0:04:48         155.312500            163.0   \n",
       "2   0:05:23          0:05:23    0:05:09         155.625000            161.0   \n",
       "3   0:05:23          0:05:16    0:04:44         150.312500            163.0   \n",
       "4   0:05:30          0:05:30    0:05:18         155.515625            160.0   \n",
       "5   0:05:31          0:05:29    0:04:47         155.343750            164.0   \n",
       "6   0:05:33          0:05:33    0:05:20         156.765625            163.0   \n",
       "7   0:05:27          0:05:27    0:04:56         155.593750            165.0   \n",
       "8   0:05:36          0:05:36    0:05:29         156.765625            161.0   \n",
       "9   0:05:32          0:05:32    0:05:18         157.968750            161.0   \n",
       "10  0:05:30          0:05:25    0:05:11         157.187500            214.0   \n",
       "11  0:05:33          0:05:33    0:05:20         157.859375            161.0   \n",
       "12  0:05:35          0:05:35    0:05:26         157.906250            161.0   \n",
       "13  0:05:17          0:05:16    0:05:04         160.578125            169.0   \n",
       "14  0:04:58          0:04:58    0:04:32         162.421875            169.0   \n",
       "15  0:05:02          0:04:46    0:04:42         163.578125            165.0   \n",
       "16  0:05:26          0:05:25    0:04:01         156.515625            214.0   \n",
       "\n",
       "    Avg Stride Length  Avg HR  Max HR  Avg Temperature  Calories  \n",
       "0          117.930005   154.0   170.0            31.00        78  \n",
       "1          119.719995   170.0   176.0            29.00        81  \n",
       "2          117.840002   173.0   177.0            28.00        82  \n",
       "3          120.250000   169.0   182.0            29.00        79  \n",
       "4          114.709998   177.0   181.0            28.00        82  \n",
       "5          115.969995   169.0   179.0            28.00        78  \n",
       "6          114.490002   172.0   178.0            28.00        81  \n",
       "7          116.530005   167.0   179.0            28.00        77  \n",
       "8          113.069995   168.0   171.0            26.00        80  \n",
       "9          114.430005   169.0   173.0            26.00        80  \n",
       "10         115.530005   168.0   174.0            26.00        79  \n",
       "11         113.950000   174.0   177.0            26.00        81  \n",
       "12         113.490002   174.0   176.0            25.00        81  \n",
       "13         118.300000   178.0   180.0            26.00        81  \n",
       "14         123.119995   175.0   182.0            25.00        76  \n",
       "15         129.509998   183.0   183.0            25.00         4  \n",
       "16         116.580005   171.0   183.0            27.26      1201  "
      ]
     },
     "execution_count": 50,
     "metadata": {},
     "output_type": "execute_result"
    }
   ],
   "source": [
    "df = g.csv_bytes_to_pandas(g.get_activity(activity_id=x['activityId'], format='csv'))\n",
    "df"
   ]
  },
  {
   "cell_type": "code",
   "execution_count": 109,
   "id": "a8c2b33f-dc4d-4ff7-83b7-e5128a81a4aa",
   "metadata": {},
   "outputs": [
    {
     "data": {
      "image/png": "[encoded data removed]",
      "text/plain": [
       "<Figure size 1200x500 with 1 Axes>"
      ]
     },
     "metadata": {},
     "output_type": "display_data"
    }
   ],
   "source": [
    "xs = df.iloc[:-1]['Avg Pace']\n",
    "xs = pd.to_timedelta(xs).dt.total_seconds()\n",
    "\n",
    "ys = df.iloc[:-1]['Avg HR']\n",
    "\n",
    "ix = np.arange(len(xs))\n",
    "\n",
    "plt.figure(figsize=(12, 5))\n",
    "# sns.scatterplot(x=ix, y=xs, palette='rocket', label='avg pace')\n",
    "# sns.scatterplot(x=ix, y=ys, palette='rocket', label='avg hr')\n",
    "sns.lineplot(x=ix, y=ys)\n",
    "\n",
    "# plt.xticks(ix, labels=1+ix)\n",
    "pass"
   ]
  },
  {
   "cell_type": "code",
   "execution_count": null,
   "id": "9b4d6234-2645-4068-ad7c-7071716fa7fe",
   "metadata": {},
   "outputs": [],
   "source": []
  }
 ],
 "metadata": {
  "kernelspec": {
   "display_name": "garmin-stats",
   "language": "python",
   "name": "python3"
  },
  "language_info": {
   "codemirror_mode": {
    "name": "ipython",
    "version": 3
   },
   "file_extension": ".py",
   "mimetype": "text/x-python",
   "name": "python",
   "nbconvert_exporter": "python",
   "pygments_lexer": "ipython3",
   "version": "3.12.11"
  }
 },
 "nbformat": 4,
 "nbformat_minor": 5
}
